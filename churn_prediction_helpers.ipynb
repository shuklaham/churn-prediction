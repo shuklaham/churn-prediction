{
 "cells": [
  {
   "cell_type": "code",
   "execution_count": 1,
   "metadata": {},
   "outputs": [],
   "source": [
    "# usual imports \n",
    "import numpy as np\n",
    "import pandas as pd\n",
    "\n",
    "import math\n",
    "\n",
    "import seaborn as sns\n",
    "from matplotlib import pyplot as plt\n",
    "%matplotlib inline\n",
    "\n",
    "from sklearn.metrics import mutual_info_score\n",
    "from sklearn.feature_extraction import DictVectorizer\n",
    "from sklearn.preprocessing import StandardScaler\n",
    "\n",
    "from sklearn.ensemble import RandomForestClassifier\n"
   ]
  },
  {
   "cell_type": "code",
   "execution_count": 2,
   "metadata": {},
   "outputs": [],
   "source": [
    "def get_input_data_matrix(df, categorical_features, numerical_features, scaling_required = True, \n",
    "          is_training_data= True, dict_vectorizer = None, standard_scalar = None):\n",
    "    '''\n",
    "    This function gets dataframe and converts input features into numpy 2D matrix\n",
    "    and returns values that need to be predicted.\n",
    "    Returns:\n",
    "    {\n",
    "        'X': X, \n",
    "        'dict_vectorizer' : dict_vectorizer, \n",
    "        'standard_scalar' : standard_scalar,\n",
    "        'feature_names' : feature_names\n",
    "    }\n",
    "    '''\n",
    "    categorical_data = df[categorical_features].to_dict(orient='rows')\n",
    "    numerical_data = df[numerical_features].to_numpy()\n",
    "    if is_training_data:\n",
    "        dict_vectorizer = DictVectorizer(sparse=False)\n",
    "        dict_vectorizer.fit(categorical_data)        \n",
    "        if scaling_required:\n",
    "            standard_scalar = StandardScaler()\n",
    "            standard_scalar.fit(numerical_data)\n",
    "            X_numerical = standard_scalar.transform(numerical_data)\n",
    "        else:\n",
    "            X_numerical = numerical_data\n",
    "\n",
    "    X_categorical = dict_vectorizer.transform(categorical_data)\n",
    "\n",
    "    input_data_matrix = np.concatenate((X_categorical, X_numerical), axis=1)\n",
    "    feature_names = dict_vectorizer.feature_names_ + numerical_features\n",
    "    \n",
    "    return {\n",
    "        'input_data_matrix': input_data_matrix, \n",
    "        'dict_vectorizer' : dict_vectorizer, \n",
    "        'standard_scalar' : standard_scalar,\n",
    "        'feature_names' : feature_names\n",
    "    }\n",
    "\n",
    "\n",
    "\n",
    "def calculate_mi(series):\n",
    "    '''\n",
    "    Calculate mutual information score between the pandas series and churn column\n",
    "    '''\n",
    "    return mutual_info_score(series, df_train_full_explore.churn)\n"
   ]
  },
  {
   "cell_type": "code",
   "execution_count": null,
   "metadata": {},
   "outputs": [],
   "source": []
  },
  {
   "cell_type": "code",
   "execution_count": null,
   "metadata": {},
   "outputs": [],
   "source": []
  }
 ],
 "metadata": {
  "kernelspec": {
   "display_name": "Python 3",
   "language": "python",
   "name": "python3"
  },
  "language_info": {
   "codemirror_mode": {
    "name": "ipython",
    "version": 3
   },
   "file_extension": ".py",
   "mimetype": "text/x-python",
   "name": "python",
   "nbconvert_exporter": "python",
   "pygments_lexer": "ipython3",
   "version": "3.7.7"
  },
  "toc": {
   "base_numbering": 1,
   "nav_menu": {},
   "number_sections": true,
   "sideBar": true,
   "skip_h1_title": false,
   "title_cell": "Table of Contents",
   "title_sidebar": "Contents",
   "toc_cell": false,
   "toc_position": {},
   "toc_section_display": true,
   "toc_window_display": false
  }
 },
 "nbformat": 4,
 "nbformat_minor": 4
}
